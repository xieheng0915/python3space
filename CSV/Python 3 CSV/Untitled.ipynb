{
 "cells": [
  {
   "cell_type": "code",
   "execution_count": 3,
   "id": "db1880f6",
   "metadata": {},
   "outputs": [],
   "source": [
    "import numpy as np\n",
    "from pandas_datareader import data as wb\n",
    "import matplotlib.pyplot as plt"
   ]
  },
  {
   "cell_type": "code",
   "execution_count": 5,
   "id": "768bcaf8",
   "metadata": {},
   "outputs": [],
   "source": [
    "pg = wb.DataReader('PG', data_source='yahoo', start = '1995-1-1')"
   ]
  },
  {
   "cell_type": "code",
   "execution_count": 6,
   "id": "b31bf899",
   "metadata": {},
   "outputs": [
    {
     "data": {
      "text/html": [
       "<div>\n",
       "<style scoped>\n",
       "    .dataframe tbody tr th:only-of-type {\n",
       "        vertical-align: middle;\n",
       "    }\n",
       "\n",
       "    .dataframe tbody tr th {\n",
       "        vertical-align: top;\n",
       "    }\n",
       "\n",
       "    .dataframe thead th {\n",
       "        text-align: right;\n",
       "    }\n",
       "</style>\n",
       "<table border=\"1\" class=\"dataframe\">\n",
       "  <thead>\n",
       "    <tr style=\"text-align: right;\">\n",
       "      <th></th>\n",
       "      <th>High</th>\n",
       "      <th>Low</th>\n",
       "      <th>Open</th>\n",
       "      <th>Close</th>\n",
       "      <th>Volume</th>\n",
       "      <th>Adj Close</th>\n",
       "    </tr>\n",
       "    <tr>\n",
       "      <th>Date</th>\n",
       "      <th></th>\n",
       "      <th></th>\n",
       "      <th></th>\n",
       "      <th></th>\n",
       "      <th></th>\n",
       "      <th></th>\n",
       "    </tr>\n",
       "  </thead>\n",
       "  <tbody>\n",
       "    <tr>\n",
       "      <th>1995-01-03</th>\n",
       "      <td>15.62500</td>\n",
       "      <td>15.43750</td>\n",
       "      <td>15.46875</td>\n",
       "      <td>15.59375</td>\n",
       "      <td>3318400.0</td>\n",
       "      <td>8.063840</td>\n",
       "    </tr>\n",
       "    <tr>\n",
       "      <th>1995-01-04</th>\n",
       "      <td>15.65625</td>\n",
       "      <td>15.31250</td>\n",
       "      <td>15.53125</td>\n",
       "      <td>15.46875</td>\n",
       "      <td>2218800.0</td>\n",
       "      <td>7.999201</td>\n",
       "    </tr>\n",
       "    <tr>\n",
       "      <th>1995-01-05</th>\n",
       "      <td>15.43750</td>\n",
       "      <td>15.21875</td>\n",
       "      <td>15.37500</td>\n",
       "      <td>15.25000</td>\n",
       "      <td>2319600.0</td>\n",
       "      <td>7.886079</td>\n",
       "    </tr>\n",
       "    <tr>\n",
       "      <th>1995-01-06</th>\n",
       "      <td>15.40625</td>\n",
       "      <td>15.15625</td>\n",
       "      <td>15.15625</td>\n",
       "      <td>15.28125</td>\n",
       "      <td>3438000.0</td>\n",
       "      <td>7.902242</td>\n",
       "    </tr>\n",
       "    <tr>\n",
       "      <th>1995-01-09</th>\n",
       "      <td>15.40625</td>\n",
       "      <td>15.18750</td>\n",
       "      <td>15.34375</td>\n",
       "      <td>15.21875</td>\n",
       "      <td>1795200.0</td>\n",
       "      <td>7.869921</td>\n",
       "    </tr>\n",
       "  </tbody>\n",
       "</table>\n",
       "</div>"
      ],
      "text/plain": [
       "                High       Low      Open     Close     Volume  Adj Close\n",
       "Date                                                                    \n",
       "1995-01-03  15.62500  15.43750  15.46875  15.59375  3318400.0   8.063840\n",
       "1995-01-04  15.65625  15.31250  15.53125  15.46875  2218800.0   7.999201\n",
       "1995-01-05  15.43750  15.21875  15.37500  15.25000  2319600.0   7.886079\n",
       "1995-01-06  15.40625  15.15625  15.15625  15.28125  3438000.0   7.902242\n",
       "1995-01-09  15.40625  15.18750  15.34375  15.21875  1795200.0   7.869921"
      ]
     },
     "execution_count": 6,
     "metadata": {},
     "output_type": "execute_result"
    }
   ],
   "source": [
    "pg.head()"
   ]
  },
  {
   "cell_type": "code",
   "execution_count": 7,
   "id": "5732b3ac",
   "metadata": {},
   "outputs": [
    {
     "data": {
      "text/html": [
       "<div>\n",
       "<style scoped>\n",
       "    .dataframe tbody tr th:only-of-type {\n",
       "        vertical-align: middle;\n",
       "    }\n",
       "\n",
       "    .dataframe tbody tr th {\n",
       "        vertical-align: top;\n",
       "    }\n",
       "\n",
       "    .dataframe thead th {\n",
       "        text-align: right;\n",
       "    }\n",
       "</style>\n",
       "<table border=\"1\" class=\"dataframe\">\n",
       "  <thead>\n",
       "    <tr style=\"text-align: right;\">\n",
       "      <th></th>\n",
       "      <th>High</th>\n",
       "      <th>Low</th>\n",
       "      <th>Open</th>\n",
       "      <th>Close</th>\n",
       "      <th>Volume</th>\n",
       "      <th>Adj Close</th>\n",
       "    </tr>\n",
       "    <tr>\n",
       "      <th>Date</th>\n",
       "      <th></th>\n",
       "      <th></th>\n",
       "      <th></th>\n",
       "      <th></th>\n",
       "      <th></th>\n",
       "      <th></th>\n",
       "    </tr>\n",
       "  </thead>\n",
       "  <tbody>\n",
       "    <tr>\n",
       "      <th>2021-08-17</th>\n",
       "      <td>145.600006</td>\n",
       "      <td>143.889999</td>\n",
       "      <td>144.399994</td>\n",
       "      <td>144.880005</td>\n",
       "      <td>7577000.0</td>\n",
       "      <td>144.880005</td>\n",
       "    </tr>\n",
       "    <tr>\n",
       "      <th>2021-08-18</th>\n",
       "      <td>144.880005</td>\n",
       "      <td>143.179993</td>\n",
       "      <td>144.699997</td>\n",
       "      <td>143.300003</td>\n",
       "      <td>7162000.0</td>\n",
       "      <td>143.300003</td>\n",
       "    </tr>\n",
       "    <tr>\n",
       "      <th>2021-08-19</th>\n",
       "      <td>145.279999</td>\n",
       "      <td>143.160004</td>\n",
       "      <td>143.160004</td>\n",
       "      <td>144.990005</td>\n",
       "      <td>5787200.0</td>\n",
       "      <td>144.990005</td>\n",
       "    </tr>\n",
       "    <tr>\n",
       "      <th>2021-08-20</th>\n",
       "      <td>145.979996</td>\n",
       "      <td>144.779999</td>\n",
       "      <td>145.250000</td>\n",
       "      <td>145.089996</td>\n",
       "      <td>5273800.0</td>\n",
       "      <td>145.089996</td>\n",
       "    </tr>\n",
       "    <tr>\n",
       "      <th>2021-08-23</th>\n",
       "      <td>145.335007</td>\n",
       "      <td>143.970001</td>\n",
       "      <td>144.289993</td>\n",
       "      <td>144.845001</td>\n",
       "      <td>1972113.0</td>\n",
       "      <td>144.845001</td>\n",
       "    </tr>\n",
       "  </tbody>\n",
       "</table>\n",
       "</div>"
      ],
      "text/plain": [
       "                  High         Low        Open       Close     Volume  \\\n",
       "Date                                                                    \n",
       "2021-08-17  145.600006  143.889999  144.399994  144.880005  7577000.0   \n",
       "2021-08-18  144.880005  143.179993  144.699997  143.300003  7162000.0   \n",
       "2021-08-19  145.279999  143.160004  143.160004  144.990005  5787200.0   \n",
       "2021-08-20  145.979996  144.779999  145.250000  145.089996  5273800.0   \n",
       "2021-08-23  145.335007  143.970001  144.289993  144.845001  1972113.0   \n",
       "\n",
       "             Adj Close  \n",
       "Date                    \n",
       "2021-08-17  144.880005  \n",
       "2021-08-18  143.300003  \n",
       "2021-08-19  144.990005  \n",
       "2021-08-20  145.089996  \n",
       "2021-08-23  144.845001  "
      ]
     },
     "execution_count": 7,
     "metadata": {},
     "output_type": "execute_result"
    }
   ],
   "source": [
    "pg.tail()"
   ]
  },
  {
   "cell_type": "code",
   "execution_count": 9,
   "id": "ef145ab4",
   "metadata": {},
   "outputs": [
    {
     "name": "stdout",
     "output_type": "stream",
     "text": [
      "Date\n",
      "1995-01-03         NaN\n",
      "1995-01-04   -0.008016\n",
      "1995-01-05   -0.014142\n",
      "1995-01-06    0.002050\n",
      "1995-01-09   -0.004090\n",
      "                ...   \n",
      "2021-08-17    0.001659\n",
      "2021-08-18   -0.010906\n",
      "2021-08-19    0.011793\n",
      "2021-08-20    0.000690\n",
      "2021-08-23   -0.001689\n",
      "Name: simple_return, Length: 6708, dtype: float64\n"
     ]
    }
   ],
   "source": [
    "pg['simple_return'] = (pg['Adj Close'] / pg['Adj Close'].shift(1)) -1\n",
    "print (pg['simple_return'])"
   ]
  },
  {
   "cell_type": "code",
   "execution_count": 11,
   "id": "9100163d",
   "metadata": {},
   "outputs": [
    {
     "data": {
      "image/png": "[encoded data removed]",
      "text/plain": [
       "<Figure size 720x360 with 1 Axes>"
      ]
     },
     "metadata": {
      "needs_background": "light"
     },
     "output_type": "display_data"
    }
   ],
   "source": [
    "pg['simple_return'].plot(figsize=(10,5))\n",
    "plt.show()"
   ]
  },
  {
   "cell_type": "code",
   "execution_count": 13,
   "id": "30730211",
   "metadata": {},
   "outputs": [
    {
     "data": {
      "text/plain": [
       "0.0005317354216233513"
      ]
     },
     "execution_count": 13,
     "metadata": {},
     "output_type": "execute_result"
    }
   ],
   "source": [
    "avg_return_d = pg['simple_return'].mean()\n",
    "avg_return_d"
   ]
  },
  {
   "cell_type": "code",
   "execution_count": 15,
   "id": "06aec381",
   "metadata": {},
   "outputs": [
    {
     "data": {
      "text/plain": [
       "0.13293385540583783"
      ]
     },
     "execution_count": 15,
     "metadata": {},
     "output_type": "execute_result"
    }
   ],
   "source": [
    "avg_return_a = pg['simple_return'].mean() * 250\n",
    "avg_return_a"
   ]
  },
  {
   "cell_type": "code",
   "execution_count": 18,
   "id": "d6057c8d",
   "metadata": {},
   "outputs": [
    {
     "name": "stdout",
     "output_type": "stream",
     "text": [
      "13.293%\n"
     ]
    }
   ],
   "source": [
    "print (str(round(avg_return_a, 5) *100) + '%')"
   ]
  },
  {
   "cell_type": "code",
   "execution_count": 21,
   "id": "183640f9",
   "metadata": {},
   "outputs": [
    {
     "name": "stdout",
     "output_type": "stream",
     "text": [
      "Date\n",
      "1995-01-03         NaN\n",
      "1995-01-04   -0.008048\n",
      "1995-01-05   -0.014243\n",
      "1995-01-06    0.002047\n",
      "1995-01-09   -0.004098\n",
      "                ...   \n",
      "2021-08-17    0.001658\n",
      "2021-08-18   -0.010965\n",
      "2021-08-19    0.011724\n",
      "2021-08-20    0.000689\n",
      "2021-08-23   -0.001690\n",
      "Name: log_return, Length: 6708, dtype: float64\n"
     ]
    }
   ],
   "source": [
    "pg['log_return'] = np.log(pg['Adj Close'] / pg['Adj Close'].shift(1))\n",
    "print (pg['log_return'])"
   ]
  },
  {
   "cell_type": "code",
   "execution_count": 23,
   "id": "10b0dbf4",
   "metadata": {},
   "outputs": [
    {
     "data": {
      "image/png": "[encoded data removed]",
      "text/plain": [
       "<Figure size 576x360 with 1 Axes>"
      ]
     },
     "metadata": {
      "needs_background": "light"
     },
     "output_type": "display_data"
    }
   ],
   "source": [
    "pg['log_return'].plot(figsize=(8,5))\n",
    "plt.show()"
   ]
  },
  {
   "cell_type": "code",
   "execution_count": 24,
   "id": "39475c95",
   "metadata": {},
   "outputs": [
    {
     "data": {
      "text/plain": [
       "0.00043063580655718434"
      ]
     },
     "execution_count": 24,
     "metadata": {},
     "output_type": "execute_result"
    }
   ],
   "source": [
    "log_return_d = pg['log_return'].mean()\n",
    "log_return_d"
   ]
  },
  {
   "cell_type": "code",
   "execution_count": 25,
   "id": "d45bf6ab",
   "metadata": {},
   "outputs": [
    {
     "data": {
      "text/plain": [
       "0.10765895163929608"
      ]
     },
     "execution_count": 25,
     "metadata": {},
     "output_type": "execute_result"
    }
   ],
   "source": [
    "log_return_a = pg['log_return'].mean() * 250\n",
    "log_return_a"
   ]
  },
  {
   "cell_type": "code",
   "execution_count": 26,
   "id": "06f81623",
   "metadata": {},
   "outputs": [
    {
     "name": "stdout",
     "output_type": "stream",
     "text": [
      "10.766 %\n"
     ]
    }
   ],
   "source": [
    "print(str(round(log_return_a, 5) * 100) + ' %')"
   ]
  },
  {
   "cell_type": "code",
   "execution_count": null,
   "id": "1bc3a5bc",
   "metadata": {},
   "outputs": [],
   "source": []
  }
 ],
 "metadata": {
  "kernelspec": {
   "display_name": "Python 3 (ipykernel)",
   "language": "python",
   "name": "python3"
  },
  "language_info": {
   "codemirror_mode": {
    "name": "ipython",
    "version": 3
   },
   "file_extension": ".py",
   "mimetype": "text/x-python",
   "name": "python",
   "nbconvert_exporter": "python",
   "pygments_lexer": "ipython3",
   "version": "3.9.6"
  }
 },
 "nbformat": 4,
 "nbformat_minor": 5
}
