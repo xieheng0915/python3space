{
 "cells": [
  {
   "cell_type": "code",
   "execution_count": 79,
   "id": "4cc83995",
   "metadata": {},
   "outputs": [],
   "source": [
    "import pandas as pd\n",
    "import folium"
   ]
  },
  {
   "cell_type": "code",
   "execution_count": 80,
   "id": "90a9ffa1",
   "metadata": {},
   "outputs": [],
   "source": [
    "df = pd.read_csv(\"898.csv\")"
   ]
  },
  {
   "cell_type": "code",
   "execution_count": 81,
   "id": "c53ad205",
   "metadata": {},
   "outputs": [],
   "source": [
    "store = df[[\"緯度\", \"経度\", \"店舗名(日本語)\"]].values"
   ]
  },
  {
   "cell_type": "code",
   "execution_count": 82,
   "id": "ce640523",
   "metadata": {},
   "outputs": [],
   "source": [
    "m = folium.Map(location=[35.942957,137.198863], zoom_start=16)"
   ]
  },
  {
   "cell_type": "code",
   "execution_count": 83,
   "id": "cb92bc65",
   "metadata": {},
   "outputs": [],
   "source": [
    "for data in store:\n",
    "    folium.Marker([data[0],data[1]],tooltip=data[2]).add_to(m)"
   ]
  },
  {
   "cell_type": "code",
   "execution_count": 84,
   "id": "1e32399d",
   "metadata": {},
   "outputs": [],
   "source": [
    "m.save(\"store.html\")"
   ]
  },
  {
   "cell_type": "code",
   "execution_count": 85,
   "id": "b769307d",
   "metadata": {},
   "outputs": [
    {
     "name": "stdout",
     "output_type": "stream",
     "text": [
      "<folium.folium.Map object at 0x11b12ca90>\n"
     ]
    }
   ],
   "source": [
    "print (m)"
   ]
  },
  {
   "cell_type": "code",
   "execution_count": 36,
   "id": "e1952855",
   "metadata": {},
   "outputs": [],
   "source": [
    "import matplotlib.pyplot as plt\n",
    "import japanize_matplotlib"
   ]
  },
  {
   "cell_type": "code",
   "execution_count": 59,
   "id": "1b87ace0",
   "metadata": {},
   "outputs": [],
   "source": [
    "df3 = pd.read_csv(\"sample.csv\")\n",
    "df3 = pd.pivot_table(df3,\"残業時間\",aggfunc=\"mean\",index=\"部\",columns='level')\n",
    "df3 = df3.div(df3.sum(axis=1),axis=0)"
   ]
  },
  {
   "cell_type": "code",
   "execution_count": 60,
   "id": "02542c0a",
   "metadata": {},
   "outputs": [
    {
     "data": {
      "text/plain": [
       "<Figure size 432x288 with 0 Axes>"
      ]
     },
     "metadata": {},
     "output_type": "display_data"
    }
   ],
   "source": [
    "fig = plt.figure()"
   ]
  },
  {
   "cell_type": "code",
   "execution_count": 61,
   "id": "f7cd00f9",
   "metadata": {},
   "outputs": [],
   "source": [
    "position=fig.add_subplot(1,1,1)"
   ]
  },
  {
   "cell_type": "code",
   "execution_count": 62,
   "id": "ac6c6ebc",
   "metadata": {},
   "outputs": [
    {
     "data": {
      "text/plain": [
       "<AxesSubplot:xlabel='部'>"
      ]
     },
     "execution_count": 62,
     "metadata": {},
     "output_type": "execute_result"
    }
   ],
   "source": [
    "df3.plot(kind=\"bar\",ax=position,stacked=True)"
   ]
  },
  {
   "cell_type": "code",
   "execution_count": 63,
   "id": "d272b51d",
   "metadata": {},
   "outputs": [
    {
     "data": {
      "image/png": "[encoded data removed]",
      "text/plain": [
       "<Figure size 432x288 with 1 Axes>"
      ]
     },
     "metadata": {
      "needs_background": "light"
     },
     "output_type": "display_data"
    }
   ],
   "source": [
    "plt.legend([\"level 1\", \"level 2\", \"level 3\"],loc=\"upper right\")\n",
    "plt.show()"
   ]
  },
  {
   "cell_type": "code",
   "execution_count": null,
   "id": "bd93d681",
   "metadata": {},
   "outputs": [],
   "source": []
  }
 ],
 "metadata": {
  "kernelspec": {
   "display_name": "Python 3 (ipykernel)",
   "language": "python",
   "name": "python3"
  },
  "language_info": {
   "codemirror_mode": {
    "name": "ipython",
    "version": 3
   },
   "file_extension": ".py",
   "mimetype": "text/x-python",
   "name": "python",
   "nbconvert_exporter": "python",
   "pygments_lexer": "ipython3",
   "version": "3.9.6"
  }
 },
 "nbformat": 4,
 "nbformat_minor": 5
}
