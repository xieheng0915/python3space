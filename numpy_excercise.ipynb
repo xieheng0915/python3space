{
 "cells": [
  {
   "cell_type": "code",
   "execution_count": 1,
   "id": "030e0fa4",
   "metadata": {},
   "outputs": [],
   "source": [
    "import numpy as np"
   ]
  },
  {
   "cell_type": "code",
   "execution_count": 13,
   "id": "206b564a",
   "metadata": {},
   "outputs": [
    {
     "name": "stdout",
     "output_type": "stream",
     "text": [
      "[1 2 3]\n",
      "[[ 0.8   0.87  0.4 ]\n",
      " [34.   23.   56.  ]]\n"
     ]
    }
   ],
   "source": [
    "a = np.array([1,2,3], dtype='int16')\n",
    "print(a)\n",
    "b = np.array([[0.8,0.87,0.4],[34,23,56]])\n",
    "print(b)"
   ]
  },
  {
   "cell_type": "code",
   "execution_count": 14,
   "id": "741bdc80",
   "metadata": {},
   "outputs": [
    {
     "data": {
      "text/plain": [
       "(2, 3)"
      ]
     },
     "execution_count": 14,
     "metadata": {},
     "output_type": "execute_result"
    }
   ],
   "source": [
    "b.shape"
   ]
  },
  {
   "cell_type": "code",
   "execution_count": 15,
   "id": "7d7943c5",
   "metadata": {},
   "outputs": [
    {
     "data": {
      "text/plain": [
       "1"
      ]
     },
     "execution_count": 15,
     "metadata": {},
     "output_type": "execute_result"
    }
   ],
   "source": [
    "a.ndim"
   ]
  },
  {
   "cell_type": "code",
   "execution_count": 16,
   "id": "85e4221e",
   "metadata": {},
   "outputs": [
    {
     "data": {
      "text/plain": [
       "dtype('int16')"
      ]
     },
     "execution_count": 16,
     "metadata": {},
     "output_type": "execute_result"
    }
   ],
   "source": [
    "a.dtype"
   ]
  },
  {
   "cell_type": "code",
   "execution_count": 21,
   "id": "26eb122c",
   "metadata": {},
   "outputs": [
    {
     "name": "stdout",
     "output_type": "stream",
     "text": [
      "2\n",
      "3\n",
      "6\n",
      "6\n"
     ]
    }
   ],
   "source": [
    "print(a.itemsize)\n",
    "print(a.size)\n",
    "print(a.size * a.itemsize)\n",
    "print(a.nbytes)"
   ]
  },
  {
   "cell_type": "code",
   "execution_count": 22,
   "id": "00df8da3",
   "metadata": {},
   "outputs": [
    {
     "name": "stdout",
     "output_type": "stream",
     "text": [
      "[[ 1  2  3  4  5  6  7]\n",
      " [ 8  9 10 11 12 13 14]]\n"
     ]
    }
   ],
   "source": [
    "a = np.array([[1,2,3,4,5,6,7],[8,9,10,11,12,13,14]])\n",
    "print(a)"
   ]
  },
  {
   "cell_type": "code",
   "execution_count": 23,
   "id": "2f717eb2",
   "metadata": {},
   "outputs": [
    {
     "data": {
      "text/plain": [
       "13"
      ]
     },
     "execution_count": 23,
     "metadata": {},
     "output_type": "execute_result"
    }
   ],
   "source": [
    "a[1,5]"
   ]
  },
  {
   "cell_type": "code",
   "execution_count": 24,
   "id": "b1f9e8c8",
   "metadata": {},
   "outputs": [
    {
     "data": {
      "text/plain": [
       "13"
      ]
     },
     "execution_count": 24,
     "metadata": {},
     "output_type": "execute_result"
    }
   ],
   "source": [
    "a[1,-2]"
   ]
  },
  {
   "cell_type": "code",
   "execution_count": 25,
   "id": "2081b863",
   "metadata": {},
   "outputs": [
    {
     "data": {
      "text/plain": [
       "array([1, 2, 3, 4, 5, 6, 7])"
      ]
     },
     "execution_count": 25,
     "metadata": {},
     "output_type": "execute_result"
    }
   ],
   "source": [
    "a[0, :]"
   ]
  },
  {
   "cell_type": "code",
   "execution_count": 26,
   "id": "54f024ff",
   "metadata": {},
   "outputs": [
    {
     "data": {
      "text/plain": [
       "array([ 3, 10])"
      ]
     },
     "execution_count": 26,
     "metadata": {},
     "output_type": "execute_result"
    }
   ],
   "source": [
    "a[:,2]"
   ]
  },
  {
   "cell_type": "code",
   "execution_count": 27,
   "id": "fb0f7881",
   "metadata": {},
   "outputs": [
    {
     "data": {
      "text/plain": [
       "array([2, 4, 6])"
      ]
     },
     "execution_count": 27,
     "metadata": {},
     "output_type": "execute_result"
    }
   ],
   "source": [
    "a[0, 1:6:2]"
   ]
  },
  {
   "cell_type": "code",
   "execution_count": 34,
   "id": "79bfa2d0",
   "metadata": {},
   "outputs": [
    {
     "data": {
      "text/plain": [
       "array([7, 5, 3])"
      ]
     },
     "execution_count": 34,
     "metadata": {},
     "output_type": "execute_result"
    }
   ],
   "source": [
    "a[0, -1:0:-2]"
   ]
  },
  {
   "cell_type": "code",
   "execution_count": 35,
   "id": "349beb61",
   "metadata": {},
   "outputs": [
    {
     "data": {
      "text/plain": [
       "array([2, 4, 6])"
      ]
     },
     "execution_count": 35,
     "metadata": {},
     "output_type": "execute_result"
    }
   ],
   "source": [
    "a[0,1:-1:2]"
   ]
  },
  {
   "cell_type": "code",
   "execution_count": 36,
   "id": "0b941e35",
   "metadata": {},
   "outputs": [],
   "source": [
    "a[1,5] = 23"
   ]
  },
  {
   "cell_type": "code",
   "execution_count": 40,
   "id": "1a575e23",
   "metadata": {},
   "outputs": [
    {
     "data": {
      "text/plain": [
       "array([[ 1,  2,  5,  4,  5,  6,  7],\n",
       "       [ 8,  9,  5, 11, 12, 23, 14]])"
      ]
     },
     "execution_count": 40,
     "metadata": {},
     "output_type": "execute_result"
    }
   ],
   "source": [
    "a[:, 2] =5\n",
    "a"
   ]
  },
  {
   "cell_type": "code",
   "execution_count": 38,
   "id": "ae798db6",
   "metadata": {},
   "outputs": [],
   "source": [
    "a[:, 2] =[2,3]"
   ]
  },
  {
   "cell_type": "code",
   "execution_count": 39,
   "id": "121e5bb5",
   "metadata": {},
   "outputs": [
    {
     "name": "stdout",
     "output_type": "stream",
     "text": [
      "[[ 1  2  2  4  5  6  7]\n",
      " [ 8  9  3 11 12 23 14]]\n"
     ]
    }
   ],
   "source": [
    "print(a)"
   ]
  },
  {
   "cell_type": "code",
   "execution_count": 43,
   "id": "bc537378",
   "metadata": {},
   "outputs": [
    {
     "data": {
      "text/plain": [
       "array([[[1, 1],\n",
       "        [1, 1],\n",
       "        [1, 1],\n",
       "        [1, 1]],\n",
       "\n",
       "       [[1, 1],\n",
       "        [1, 1],\n",
       "        [1, 1],\n",
       "        [1, 1]],\n",
       "\n",
       "       [[1, 1],\n",
       "        [1, 1],\n",
       "        [1, 1],\n",
       "        [1, 1]],\n",
       "\n",
       "       [[1, 1],\n",
       "        [1, 1],\n",
       "        [1, 1],\n",
       "        [1, 1]]], dtype=int32)"
      ]
     },
     "execution_count": 43,
     "metadata": {},
     "output_type": "execute_result"
    }
   ],
   "source": [
    "np.ones((4,4,2), dtype='int32')"
   ]
  },
  {
   "cell_type": "code",
   "execution_count": 45,
   "id": "9082afa2",
   "metadata": {},
   "outputs": [
    {
     "data": {
      "text/plain": [
       "array([[[99.9, 99.9, 99.9, 99.9],\n",
       "        [99.9, 99.9, 99.9, 99.9]],\n",
       "\n",
       "       [[99.9, 99.9, 99.9, 99.9],\n",
       "        [99.9, 99.9, 99.9, 99.9]]], dtype=float32)"
      ]
     },
     "execution_count": 45,
     "metadata": {},
     "output_type": "execute_result"
    }
   ],
   "source": [
    "np.full((2,2,4), 99.9, dtype = 'float32')"
   ]
  },
  {
   "cell_type": "code",
   "execution_count": 48,
   "id": "232a41fe",
   "metadata": {},
   "outputs": [
    {
     "data": {
      "text/plain": [
       "array([[0, 0, 0, 0, 0, 0, 0],\n",
       "       [0, 0, 0, 0, 0, 0, 0]])"
      ]
     },
     "execution_count": 48,
     "metadata": {},
     "output_type": "execute_result"
    }
   ],
   "source": [
    "np.full_like(a,0)"
   ]
  },
  {
   "cell_type": "code",
   "execution_count": 50,
   "id": "7f9dbdb1",
   "metadata": {},
   "outputs": [
    {
     "data": {
      "text/plain": [
       "array([[0.61336072, 0.47346221, 0.43944821, 0.91805253],\n",
       "       [0.74128807, 0.0633012 , 0.19660622, 0.2211686 ],\n",
       "       [0.13316962, 0.78461097, 0.91210701, 0.80021519],\n",
       "       [0.25914959, 0.15362454, 0.8227991 , 0.73000232]])"
      ]
     },
     "execution_count": 50,
     "metadata": {},
     "output_type": "execute_result"
    }
   ],
   "source": [
    "np.random.rand(4,4)"
   ]
  },
  {
   "cell_type": "code",
   "execution_count": 52,
   "id": "d80f3984",
   "metadata": {},
   "outputs": [
    {
     "data": {
      "text/plain": [
       "array([[0.97695273, 0.71525743, 0.93221333, 0.69953402, 0.86724959,\n",
       "        0.25332386, 0.22929063],\n",
       "       [0.82599513, 0.54833989, 0.28529169, 0.72268338, 0.97566214,\n",
       "        0.27739776, 0.9221167 ]])"
      ]
     },
     "execution_count": 52,
     "metadata": {},
     "output_type": "execute_result"
    }
   ],
   "source": [
    "np.random.random_sample(a.shape)"
   ]
  },
  {
   "cell_type": "code",
   "execution_count": 54,
   "id": "75902e28",
   "metadata": {},
   "outputs": [
    {
     "data": {
      "text/plain": [
       "array([[ 4,  2,  4],\n",
       "       [-1,  2, -6],\n",
       "       [-1, -1,  2]])"
      ]
     },
     "execution_count": 54,
     "metadata": {},
     "output_type": "execute_result"
    }
   ],
   "source": [
    "np.random.randint(-7,7, size=(3,3))"
   ]
  },
  {
   "cell_type": "code",
   "execution_count": 55,
   "id": "17933bce",
   "metadata": {},
   "outputs": [
    {
     "data": {
      "text/plain": [
       "array([[1., 0., 0., 0., 0.],\n",
       "       [0., 1., 0., 0., 0.],\n",
       "       [0., 0., 1., 0., 0.],\n",
       "       [0., 0., 0., 1., 0.],\n",
       "       [0., 0., 0., 0., 1.]])"
      ]
     },
     "execution_count": 55,
     "metadata": {},
     "output_type": "execute_result"
    }
   ],
   "source": [
    "np.identity(5)"
   ]
  },
  {
   "cell_type": "code",
   "execution_count": 57,
   "id": "f3e63e3d",
   "metadata": {},
   "outputs": [
    {
     "name": "stdout",
     "output_type": "stream",
     "text": [
      "[[1 2 3]\n",
      " [1 2 3]\n",
      " [1 2 3]]\n"
     ]
    }
   ],
   "source": [
    "arr = np.array([[1,2,3]])\n",
    "print(np.repeat(arr, 3, axis=0))"
   ]
  },
  {
   "cell_type": "code",
   "execution_count": 67,
   "id": "33ee09a9",
   "metadata": {},
   "outputs": [
    {
     "name": "stdout",
     "output_type": "stream",
     "text": [
      "[100   2   3] [100   2   3]\n"
     ]
    }
   ],
   "source": [
    "a = np.array([1,2,3])\n",
    "#b = a.copy()\n",
    "b=a\n",
    "b[0] =100\n",
    "print(a, b)"
   ]
  },
  {
   "cell_type": "code",
   "execution_count": 69,
   "id": "d16419dc",
   "metadata": {},
   "outputs": [
    {
     "name": "stdout",
     "output_type": "stream",
     "text": [
      "[[1. 1. 1. 1. 1.]\n",
      " [1. 1. 1. 1. 1.]\n",
      " [1. 1. 1. 1. 1.]\n",
      " [1. 1. 1. 1. 1.]\n",
      " [1. 1. 1. 1. 1.]]\n",
      "[[1. 1. 1. 1. 1.]\n",
      " [1. 1. 1. 1. 1.]\n",
      " [1. 1. 1. 1. 1.]\n",
      " [1. 1. 1. 1. 1.]\n",
      " [1. 1. 1. 1. 1.]] [[0. 0. 0.]\n",
      " [0. 3. 0.]\n",
      " [0. 0. 0.]]\n",
      "[[0. 0. 0.]\n",
      " [0. 3. 0.]\n",
      " [0. 0. 0.]]\n",
      "[[1. 1. 1. 1. 1.]\n",
      " [1. 0. 0. 0. 1.]\n",
      " [1. 0. 9. 0. 1.]\n",
      " [1. 0. 0. 0. 1.]\n",
      " [1. 1. 1. 1. 1.]]\n",
      "[[0. 0. 0.]\n",
      " [0. 3. 0.]\n",
      " [0. 0. 0.]]\n",
      "[[1. 1. 1. 1. 1.]\n",
      " [1. 0. 0. 0. 1.]\n",
      " [1. 0. 9. 0. 1.]\n",
      " [1. 0. 0. 0. 1.]\n",
      " [1. 1. 1. 1. 1.]]\n",
      "[[ 0.  0.  0.]\n",
      " [ 0. 11.  0.]\n",
      " [ 0.  0.  0.]]\n"
     ]
    }
   ],
   "source": [
    "a = np.ones((5,5))\n",
    "print(a)\n",
    "b = np.zeros((3,3))\n",
    "b[1,1]=3\n",
    "print(a,b)\n",
    "a[1:-1,1:-1] = b\n",
    "print(b)\n",
    "a[2,2]=9\n",
    "print(a)\n",
    "print(b)\n",
    "\n",
    "b[1,1] = 11\n",
    "print(a)\n",
    "print(b)"
   ]
  },
  {
   "cell_type": "code",
   "execution_count": 71,
   "id": "8dd50b3d",
   "metadata": {},
   "outputs": [
    {
     "data": {
      "text/plain": [
       "array([[36., 36.],\n",
       "       [36., 36.]])"
      ]
     },
     "execution_count": 71,
     "metadata": {},
     "output_type": "execute_result"
    }
   ],
   "source": [
    "a = np.ones((2,3))\n",
    "b = np.full((3,2), 2)\n",
    "c= np.matmul(a,b)\n",
    "c **2"
   ]
  },
  {
   "cell_type": "code",
   "execution_count": 78,
   "id": "c74bc53b",
   "metadata": {},
   "outputs": [
    {
     "name": "stdout",
     "output_type": "stream",
     "text": [
      "[[ 1  2  3  4]\n",
      " [ 5  6  7  8]\n",
      " [ 9 10 11 12]]\n",
      "[[[ 1  2  3]\n",
      "  [ 4  5  6]\n",
      "  [ 7  8  9]\n",
      "  [10 11 12]]]\n"
     ]
    }
   ],
   "source": [
    "before = np.array([[1,2,3,4],[5,6,7,8],[9,10,11,12]])\n",
    "print(before)\n",
    "after = before.reshape((1,4,3))\n",
    "print(after)"
   ]
  },
  {
   "cell_type": "code",
   "execution_count": 92,
   "id": "bf468ddc",
   "metadata": {},
   "outputs": [
    {
     "data": {
      "text/plain": [
       "array([7, 8])"
      ]
     },
     "execution_count": 92,
     "metadata": {},
     "output_type": "execute_result"
    }
   ],
   "source": [
    "after[0,2,:-1]"
   ]
  },
  {
   "cell_type": "code",
   "execution_count": 93,
   "id": "3d685776",
   "metadata": {},
   "outputs": [
    {
     "data": {
      "text/plain": [
       "array([[False, False, False],\n",
       "       [False, False,  True],\n",
       "       [ True,  True,  True],\n",
       "       [ True,  True,  True]])"
      ]
     },
     "execution_count": 93,
     "metadata": {},
     "output_type": "execute_result"
    }
   ],
   "source": [
    "np.any(after > 5, axis =0)"
   ]
  },
  {
   "cell_type": "code",
   "execution_count": 94,
   "id": "d49071e3",
   "metadata": {},
   "outputs": [
    {
     "data": {
      "text/plain": [
       "array([[False, False, False],\n",
       "       [False, False,  True],\n",
       "       [ True,  True,  True],\n",
       "       [ True,  True,  True]])"
      ]
     },
     "execution_count": 94,
     "metadata": {},
     "output_type": "execute_result"
    }
   ],
   "source": [
    "np.all(after > 5, axis=0)"
   ]
  },
  {
   "cell_type": "code",
   "execution_count": 113,
   "id": "3cac3b79",
   "metadata": {},
   "outputs": [
    {
     "name": "stdout",
     "output_type": "stream",
     "text": [
      "50000\n",
      "Corey Schafer\n"
     ]
    }
   ],
   "source": [
    "class Employee: \n",
    "    \n",
    "    def __init__(self, firstName, lastName, payment):\n",
    "            self.firstName = firstName\n",
    "            self.lastName = lastName\n",
    "            self.payment = payment\n",
    "            self.email = firstName + '.' + lastName + '@company.com'\n",
    "        \n",
    "    def fullname(self):\n",
    "        return '{} {}'.format(self.firstName, self.lastName)\n",
    "    \n",
    "emp_1 = Employee('Corey', 'Schafer', 50000)\n",
    "emp_2 = Employee('Ellen', 'Edwardz', 50000)\n",
    "print(emp_1.payment)\n",
    "print(emp_1.fullname())\n",
    " "
   ]
  },
  {
   "cell_type": "code",
   "execution_count": 117,
   "id": "f052546a",
   "metadata": {},
   "outputs": [
    {
     "name": "stdout",
     "output_type": "stream",
     "text": [
      "[[10. ]\n",
      " [12.5]\n",
      " [15. ]\n",
      " [17.5]\n",
      " [20. ]]\n"
     ]
    }
   ],
   "source": [
    "a = np.linspace(10,20,5, endpoint=True).reshape([5,1])\n",
    "print(a)"
   ]
  },
  {
   "cell_type": "code",
   "execution_count": 121,
   "id": "42750ba0",
   "metadata": {},
   "outputs": [
    {
     "name": "stdout",
     "output_type": "stream",
     "text": [
      "[1.00000000e+00 1.77827941e+02 3.16227766e+04 5.62341325e+06\n",
      " 1.00000000e+09]\n"
     ]
    }
   ],
   "source": [
    "b = np.logspace(0,9,5,endpoint=True, base=10.0)\n",
    "print(b)"
   ]
  },
  {
   "cell_type": "code",
   "execution_count": 128,
   "id": "1e9d7760",
   "metadata": {},
   "outputs": [
    {
     "name": "stdout",
     "output_type": "stream",
     "text": [
      "[0 1 2 3 4 5 6 7 8 9] [2 4 6]\n",
      "[1 2 3 4 5 6 7 8 9]\n"
     ]
    }
   ],
   "source": [
    "a = np.arange(10)\n",
    "s = slice(2,7,2)\n",
    "print(a,a[s])"
   ]
  },
  {
   "cell_type": "code",
   "execution_count": 139,
   "id": "bf1146fa",
   "metadata": {},
   "outputs": [
    {
     "name": "stdout",
     "output_type": "stream",
     "text": [
      "[2 4 5]\n",
      "[3 4 5]\n",
      "[[2 3]\n",
      " [4 5]\n",
      " [5 6]]\n"
     ]
    }
   ],
   "source": [
    "a = np.array([[1,2,3],[3,4,5],[4,5,6]])\n",
    "#print(a)\n",
    "#print(a[1:])\n",
    "print(a[...,1])\n",
    "print(a[1,...])\n",
    "print(a[...,1:])"
   ]
  },
  {
   "cell_type": "code",
   "execution_count": 143,
   "id": "77b3494b",
   "metadata": {},
   "outputs": [
    {
     "name": "stdout",
     "output_type": "stream",
     "text": [
      "[[ 1  2  3  4]\n",
      " [ 5  6  7  8]\n",
      " [ 9 10 11 12]]\n",
      "[[ 1  5  9]\n",
      " [ 2  6 10]\n",
      " [ 3  7 11]\n",
      " [ 4  8 12]]\n",
      "[ 1  2  3  4  5  6  7  8  9 10 11 12]\n"
     ]
    }
   ],
   "source": [
    "a = np.array([[1,2,3,4],[5,6,7,8],[9,10,11,12]])\n",
    "print(a)\n",
    "print(a.T)\n",
    "print(a.flatten(order='C'))"
   ]
  },
  {
   "cell_type": "code",
   "execution_count": 153,
   "id": "3edc6348",
   "metadata": {},
   "outputs": [
    {
     "name": "stdout",
     "output_type": "stream",
     "text": [
      "0b1101 0b10001\n"
     ]
    }
   ],
   "source": [
    "a,b = 13,17\n",
    "print(bin(a), bin(b))"
   ]
  },
  {
   "cell_type": "code",
   "execution_count": 154,
   "id": "8993ab60",
   "metadata": {},
   "outputs": [
    {
     "name": "stdout",
     "output_type": "stream",
     "text": [
      "1\n"
     ]
    }
   ],
   "source": [
    "print(np.bitwise_and(a,b))"
   ]
  },
  {
   "cell_type": "code",
   "execution_count": 155,
   "id": "45cc1f86",
   "metadata": {},
   "outputs": [
    {
     "name": "stdout",
     "output_type": "stream",
     "text": [
      "29\n"
     ]
    }
   ],
   "source": [
    "print(np.bitwise_or(a,b))"
   ]
  },
  {
   "cell_type": "code",
   "execution_count": 160,
   "id": "be6940fd",
   "metadata": {},
   "outputs": [
    {
     "name": "stdout",
     "output_type": "stream",
     "text": [
      "[242]\n",
      "0b1101\n",
      "00001101\n",
      "11110010\n"
     ]
    }
   ],
   "source": [
    "print(np.invert(np.array([13], dtype=np.uint8)))\n",
    "print(bin(13))\n",
    "print(np.binary_repr(13, width =8))\n",
    "print(np.binary_repr(242,width=8))"
   ]
  },
  {
   "cell_type": "code",
   "execution_count": 163,
   "id": "01934670",
   "metadata": {},
   "outputs": [
    {
     "name": "stdout",
     "output_type": "stream",
     "text": [
      "40\n",
      "00001010\n",
      "00101000\n"
     ]
    }
   ],
   "source": [
    "print(np.left_shift(10,2))\n",
    "print(np.binary_repr(10, width=8))\n",
    "print(np.binary_repr(40, width=8))"
   ]
  },
  {
   "cell_type": "code",
   "execution_count": 164,
   "id": "ae20c155",
   "metadata": {},
   "outputs": [
    {
     "name": "stdout",
     "output_type": "stream",
     "text": [
      "*******coder: helen xie*******\n"
     ]
    }
   ],
   "source": [
    "print(np.char.center('coder: helen xie', 30, fillchar='*'))"
   ]
  },
  {
   "cell_type": "code",
   "execution_count": 165,
   "id": "5f91682f",
   "metadata": {},
   "outputs": [
    {
     "name": "stdout",
     "output_type": "stream",
     "text": [
      " I Like Helen Xie\n"
     ]
    }
   ],
   "source": [
    "print(np.char.title(' i like helen xie'))"
   ]
  },
  {
   "cell_type": "code",
   "execution_count": 168,
   "id": "46de2c5f",
   "metadata": {},
   "outputs": [
    {
     "name": "stdout",
     "output_type": "stream",
     "text": [
      "['i', 'like', 'helen', 'xie']\n",
      "['www', 'company', 'com']\n",
      "['h:e:l:e:n: :x:i:e' 'g-o-g-o-o-o-l-e']\n"
     ]
    }
   ],
   "source": [
    "print(np.char.split('i like helen xie'))\n",
    "print(np.char.split('www.company.com', sep='.'))\n",
    "print(np.char.join([':', '-'],['helen xie','gogooole']))"
   ]
  },
  {
   "cell_type": "code",
   "execution_count": 178,
   "id": "a0c4993e",
   "metadata": {},
   "outputs": [
    {
     "name": "stdout",
     "output_type": "stream",
     "text": [
      "[0.         0.5        0.70710678 0.8660254  1.        ]\n",
      "[1.00000000e+00 8.66025404e-01 7.07106781e-01 5.00000000e-01\n",
      " 6.12323400e-17]\n",
      "[0.00000000e+00 5.77350269e-01 1.00000000e+00 1.73205081e+00\n",
      " 1.63312394e+16]\n",
      "[0.         0.52359878 0.78539816 1.04719755 1.57079633]\n",
      "[ 0. 30. 45. 60. 90.]\n"
     ]
    }
   ],
   "source": [
    "import numpy as np\n",
    "a = np.array([0,30,45,60,90])\n",
    "print(np.sin(a*np.pi/180))\n",
    "print(np.cos(a*np.pi/180))\n",
    "print(np.tan(a*np.pi/180))\n",
    "print(np.arccos(np.cos(a*np.pi/180)))\n",
    "print(np.degrees(np.arccos(np.cos(a*np.pi/180))))"
   ]
  },
  {
   "cell_type": "code",
   "execution_count": 179,
   "id": "0c1f183c",
   "metadata": {},
   "outputs": [
    {
     "name": "stdout",
     "output_type": "stream",
     "text": [
      "[-1.  2. -0.  1. 10.]\n"
     ]
    }
   ],
   "source": [
    "a = np.array([-1.7, 1.5,-0.2, 0.6, 10])\n",
    "print(np.ceil(a))"
   ]
  },
  {
   "cell_type": "code",
   "execution_count": 192,
   "id": "6d014020",
   "metadata": {},
   "outputs": [
    {
     "name": "stdout",
     "output_type": "stream",
     "text": [
      "[[0 1 2]\n",
      " [3 4 5]\n",
      " [6 7 8]]\n",
      "[[10 11 12]\n",
      " [13 14 15]\n",
      " [16 17 18]]\n",
      "[[10  9  8]\n",
      " [ 7  6  5]\n",
      " [ 4  3  2]]\n",
      "[[ 0 10 20]\n",
      " [30 40 50]\n",
      " [60 70 80]]\n",
      "[[0.  0.1 0.2]\n",
      " [0.3 0.4 0.5]\n",
      " [0.6 0.7 0.8]]\n"
     ]
    }
   ],
   "source": [
    "a = np.arange(9, dtype = np.int32).reshape(3,3)\n",
    "print(a)\n",
    "b = np.array([10,10,10])\n",
    "print(np.add(a,b))\n",
    "print(np.subtract(b,a))\n",
    "print(np.multiply(a,b))\n",
    "print(np.divide(a,b))"
   ]
  },
  {
   "cell_type": "code",
   "execution_count": 193,
   "id": "3fb3860c",
   "metadata": {},
   "outputs": [
    {
     "name": "stdout",
     "output_type": "stream",
     "text": [
      "[1 0 2]\n",
      "[1 0 2]\n"
     ]
    }
   ],
   "source": [
    "a = np.array([10,20,30])\n",
    "b = np.array([3,5,7])\n",
    "print(np.mod(a,b))\n",
    "print(np.remainder(a,b))"
   ]
  },
  {
   "cell_type": "code",
   "execution_count": 198,
   "id": "c8a380fa",
   "metadata": {},
   "outputs": [
    {
     "name": "stdout",
     "output_type": "stream",
     "text": [
      "[2 4 3]\n",
      "[8 7 9]\n",
      "[6 3 6]\n",
      "[3 3 2]\n",
      "[7 8 9]\n",
      "[4 5 7]\n"
     ]
    }
   ],
   "source": [
    "a = np.array([[3,7,5],[8,4,3],[2,4,9]])\n",
    "#print(a)\n",
    "\n",
    "print(np.amin(a,0))\n",
    "print(np.amax(a,0))\n",
    "print(np.ptp(a,0))\n",
    "\n",
    "print(np.amin(a,1))\n",
    "print(np.amax(a,1))\n",
    "print(np.ptp(a,1))"
   ]
  },
  {
   "cell_type": "code",
   "execution_count": 202,
   "id": "c2803cfc",
   "metadata": {},
   "outputs": [
    {
     "name": "stdout",
     "output_type": "stream",
     "text": [
      "[6.5 4.5 2.5]\n",
      "[7. 2.]\n"
     ]
    }
   ],
   "source": [
    "a = np.array([[10,7,4],[3,2,1]])\n",
    "print(np.percentile(a,50,0))\n",
    "print(np.percentile(a,50,1))"
   ]
  },
  {
   "cell_type": "code",
   "execution_count": 218,
   "id": "d44e7bbd",
   "metadata": {},
   "outputs": [
    {
     "name": "stdout",
     "output_type": "stream",
     "text": [
      "[50. 90. 60.]\n",
      "[65. 80. 60.]\n",
      "65.0\n",
      "[53.33333333 83.33333333 46.66666667]\n",
      "[55.         61.66666667 66.66666667]\n",
      "61.111111111111114\n",
      "61.111111111111114\n",
      "2.5\n",
      "2.0\n"
     ]
    }
   ],
   "source": [
    "a = np.array([[30,65,70],[80,95,10],[50,90,60]])\n",
    "print(np.median(a,0))\n",
    "print(np.median(a,1))\n",
    "print(np.median(a))\n",
    "print(np.mean(a,0))\n",
    "print(np.mean(a,1))\n",
    "print(np.mean(a))\n",
    "print(np.average(a))\n",
    "wts = np.array([4,3,2,1])\n",
    "print(np.average([1,2,3,4]))\n",
    "print(np.average([1,2,3,4], weights = [4,3,2,1]))"
   ]
  },
  {
   "cell_type": "code",
   "execution_count": 219,
   "id": "144156f3",
   "metadata": {},
   "outputs": [
    {
     "name": "stdout",
     "output_type": "stream",
     "text": [
      "1.118033988749895\n",
      "1.25\n"
     ]
    }
   ],
   "source": [
    "print(np.std([1,2,3,4]))\n",
    "print(np.var([1,2,3,4]))"
   ]
  },
  {
   "cell_type": "code",
   "execution_count": 220,
   "id": "58bebadd",
   "metadata": {},
   "outputs": [
    {
     "data": {
      "text/plain": [
       "array([1.+2.j, 2.-1.j, 3.-3.j, 3.-2.j, 3.+5.j])"
      ]
     },
     "execution_count": 220,
     "metadata": {},
     "output_type": "execute_result"
    }
   ],
   "source": [
    "np.sort_complex([1+2j, 2-1j, 3-2j, 3-3j, 3+5j])"
   ]
  },
  {
   "cell_type": "code",
   "execution_count": 223,
   "id": "80a733be",
   "metadata": {},
   "outputs": [
    {
     "name": "stdout",
     "output_type": "stream",
     "text": [
      "[2 1 3 4]\n"
     ]
    }
   ],
   "source": [
    "a = np.array([3,4,2,1])\n",
    "print(np.partition(a,3))"
   ]
  },
  {
   "cell_type": "code",
   "execution_count": 239,
   "id": "aafd50b6",
   "metadata": {},
   "outputs": [
    {
     "name": "stdout",
     "output_type": "stream",
     "text": [
      "[ -2.    0.    1.    2.   23.   39.    2.5   3.   10.   57.  120.   46. ]\n",
      "1.0\n",
      "57.0\n"
     ]
    }
   ],
   "source": [
    "arr = np.array([46, 57, 23, 39, 1, 2, 2.5, 3, 10, 0, 120, -2])\n",
    "print(np.partition(arr,(1,3)))\n",
    "print(arr[np.argpartition(arr,2)][2])\n",
    "print(arr[np.argpartition(arr,-2)][-2])"
   ]
  },
  {
   "cell_type": "code",
   "execution_count": 240,
   "id": "79bb7251",
   "metadata": {},
   "outputs": [
    {
     "name": "stdout",
     "output_type": "stream",
     "text": [
      "(array([0, 0, 1, 1, 2, 2]), array([0, 1, 1, 2, 0, 2]))\n"
     ]
    }
   ],
   "source": [
    "a = np.array([[30,40,0],[0,20,10],[50,0,60]])  \n",
    "print(np.nonzero(a))"
   ]
  },
  {
   "cell_type": "code",
   "execution_count": 242,
   "id": "6a0e3c8d",
   "metadata": {},
   "outputs": [
    {
     "name": "stdout",
     "output_type": "stream",
     "text": [
      "[   1  256 8755]\n",
      "['0x1', '0x100', '0x2233']\n",
      "[  256     1 13090]\n",
      "['0x100', '0x1', '0x3322']\n"
     ]
    }
   ],
   "source": [
    "A = np.array([1, 256, 8755], dtype=np.int16)\n",
    "print(A)\n",
    "print(list(map(hex,A)))\n",
    "print(A.byteswap(inplace = True))\n",
    "print(list(map(hex,A)))"
   ]
  },
  {
   "cell_type": "code",
   "execution_count": 243,
   "id": "567a83dc",
   "metadata": {},
   "outputs": [
    {
     "name": "stdout",
     "output_type": "stream",
     "text": [
      "[[ 0  1  2  3]\n",
      " [ 4  5  6  7]\n",
      " [ 8  9 10 11]]\n",
      "[[ 0  4  8]\n",
      " [ 1  5  9]\n",
      " [ 2  6 10]\n",
      " [ 3  7 11]]\n"
     ]
    }
   ],
   "source": [
    "a = np.arange(12).reshape(3,4)\n",
    "print(a)\n",
    "print(a.T)"
   ]
  },
  {
   "cell_type": "code",
   "execution_count": 247,
   "id": "50529833",
   "metadata": {},
   "outputs": [
    {
     "name": "stdout",
     "output_type": "stream",
     "text": [
      "[[2.0e-323 1.5e-323]\n",
      " [9.9e-324 4.9e-324]]\n"
     ]
    }
   ],
   "source": [
    "import numpy.matlib\n",
    "\n",
    "arr = np.matlib.empty((2,2))\n",
    "print(arr)"
   ]
  },
  {
   "cell_type": "code",
   "execution_count": 250,
   "id": "1e750c5e",
   "metadata": {},
   "outputs": [
    {
     "name": "stdout",
     "output_type": "stream",
     "text": [
      "[[0. 0.]\n",
      " [0. 0.]]\n"
     ]
    }
   ],
   "source": [
    "print(np.matlib.zeros((2,2)))"
   ]
  },
  {
   "cell_type": "code",
   "execution_count": 251,
   "id": "ddd8ec12",
   "metadata": {},
   "outputs": [
    {
     "name": "stdout",
     "output_type": "stream",
     "text": [
      "[[1. 1.]\n",
      " [1. 1.]]\n"
     ]
    }
   ],
   "source": [
    "print(np.matlib.ones((2,2)))"
   ]
  },
  {
   "cell_type": "code",
   "execution_count": 257,
   "id": "8066b1d8",
   "metadata": {},
   "outputs": [
    {
     "name": "stdout",
     "output_type": "stream",
     "text": [
      "[[0. 0. 0. 0. 0. 0. 0.]\n",
      " [0. 0. 0. 0. 0. 0. 0.]\n",
      " [1. 0. 0. 0. 0. 0. 0.]\n",
      " [0. 1. 0. 0. 0. 0. 0.]\n",
      " [0. 0. 1. 0. 0. 0. 0.]\n",
      " [0. 0. 0. 1. 0. 0. 0.]]\n"
     ]
    }
   ],
   "source": [
    "print(np.matlib.eye(n=6,M=7,k=-2,dtype=float))"
   ]
  },
  {
   "cell_type": "code",
   "execution_count": 258,
   "id": "9f6cf8ab",
   "metadata": {},
   "outputs": [
    {
     "name": "stdout",
     "output_type": "stream",
     "text": [
      "[[1. 0. 0. 0. 0.]\n",
      " [0. 1. 0. 0. 0.]\n",
      " [0. 0. 1. 0. 0.]\n",
      " [0. 0. 0. 1. 0.]\n",
      " [0. 0. 0. 0. 1.]]\n"
     ]
    }
   ],
   "source": [
    "print(np.matlib.identity(5, dtype = float))"
   ]
  },
  {
   "cell_type": "code",
   "execution_count": 259,
   "id": "7d7e0e6f",
   "metadata": {},
   "outputs": [
    {
     "name": "stdout",
     "output_type": "stream",
     "text": [
      "[[4.96907929e-01 4.16489940e-01 8.16476283e-01]\n",
      " [4.02504550e-01 5.89640472e-01 8.40458029e-01]\n",
      " [1.81080421e-01 6.60371872e-05 4.05093152e-01]]\n"
     ]
    }
   ],
   "source": [
    "print(np.matlib.rand(3,3))"
   ]
  },
  {
   "cell_type": "code",
   "execution_count": 261,
   "id": "2f587053",
   "metadata": {},
   "outputs": [
    {
     "name": "stdout",
     "output_type": "stream",
     "text": [
      "[[1 2]\n",
      " [3 4]]\n",
      "[[11 12]\n",
      " [13 14]]\n",
      "[[37 40]\n",
      " [85 92]]\n"
     ]
    }
   ],
   "source": [
    "a = np.array([[1,2],[3,4]])\n",
    "b = np.array([[11,12],[13,14]])\n",
    "print(a)\n",
    "print(b)\n",
    "print(np.dot(a,b))\n"
   ]
  },
  {
   "cell_type": "code",
   "execution_count": 262,
   "id": "dfe68b51",
   "metadata": {},
   "outputs": [
    {
     "name": "stdout",
     "output_type": "stream",
     "text": [
      "37 40 85 92\n"
     ]
    }
   ],
   "source": [
    "print(11+26, 12+28, 33+52, 36+56)"
   ]
  },
  {
   "cell_type": "code",
   "execution_count": 263,
   "id": "ca8a1373",
   "metadata": {},
   "outputs": [
    {
     "name": "stdout",
     "output_type": "stream",
     "text": [
      "130\n"
     ]
    }
   ],
   "source": [
    "print(np.vdot(a,b))"
   ]
  },
  {
   "cell_type": "code",
   "execution_count": 265,
   "id": "6adc8c27",
   "metadata": {},
   "outputs": [
    {
     "name": "stdout",
     "output_type": "stream",
     "text": [
      "130\n"
     ]
    }
   ],
   "source": [
    "print(1*11 + 2*12 + 3*13 + 4*14)"
   ]
  },
  {
   "cell_type": "code",
   "execution_count": 266,
   "id": "f52f202e",
   "metadata": {},
   "outputs": [
    {
     "name": "stdout",
     "output_type": "stream",
     "text": [
      "[[35 41]\n",
      " [81 95]]\n"
     ]
    }
   ],
   "source": [
    "print(np.inner(a,b))"
   ]
  },
  {
   "cell_type": "code",
   "execution_count": 271,
   "id": "3c587804",
   "metadata": {},
   "outputs": [
    {
     "name": "stdout",
     "output_type": "stream",
     "text": [
      "35 41 81 95\n"
     ]
    }
   ],
   "source": [
    "print(11+24, 13 +28, 33 + 48, 39 +56)"
   ]
  },
  {
   "cell_type": "code",
   "execution_count": 272,
   "id": "bdb6afc0",
   "metadata": {},
   "outputs": [
    {
     "name": "stdout",
     "output_type": "stream",
     "text": [
      "[[37 40]\n",
      " [85 92]]\n"
     ]
    }
   ],
   "source": [
    "print(np.matmul(a,b))"
   ]
  },
  {
   "cell_type": "code",
   "execution_count": 273,
   "id": "a2e1a8d2",
   "metadata": {},
   "outputs": [
    {
     "name": "stdout",
     "output_type": "stream",
     "text": [
      "-2.0000000000000004\n"
     ]
    }
   ],
   "source": [
    "print(np.linalg.det(a))"
   ]
  },
  {
   "cell_type": "code",
   "execution_count": 274,
   "id": "28ee9333",
   "metadata": {},
   "outputs": [
    {
     "name": "stdout",
     "output_type": "stream",
     "text": [
      "-1.9999999999999931\n"
     ]
    }
   ],
   "source": [
    "print(np.linalg.det(b))"
   ]
  },
  {
   "cell_type": "code",
   "execution_count": 275,
   "id": "ec295ff8",
   "metadata": {},
   "outputs": [
    {
     "name": "stdout",
     "output_type": "stream",
     "text": [
      "-2\n"
     ]
    }
   ],
   "source": [
    "print(11*14 - 12*13)"
   ]
  },
  {
   "cell_type": "code",
   "execution_count": 280,
   "id": "013b2a29",
   "metadata": {},
   "outputs": [
    {
     "name": "stdout",
     "output_type": "stream",
     "text": [
      "[[-2.   1. ]\n",
      " [ 1.5 -0.5]]\n"
     ]
    }
   ],
   "source": [
    "ainv=np.linalg.inv(a)\n",
    "print(ainv)"
   ]
  },
  {
   "cell_type": "code",
   "execution_count": 277,
   "id": "a3a5b60c",
   "metadata": {},
   "outputs": [
    {
     "name": "stdout",
     "output_type": "stream",
     "text": [
      "[[1 2]\n",
      " [3 4]]\n"
     ]
    }
   ],
   "source": [
    "print(a)"
   ]
  },
  {
   "cell_type": "code",
   "execution_count": 281,
   "id": "6f34af4a",
   "metadata": {},
   "outputs": [
    {
     "name": "stdout",
     "output_type": "stream",
     "text": [
      "[[1.00000000e+00 0.00000000e+00]\n",
      " [1.11022302e-16 1.00000000e+00]]\n",
      "[[1.0000000e+00 0.0000000e+00]\n",
      " [8.8817842e-16 1.0000000e+00]]\n"
     ]
    }
   ],
   "source": [
    "print(np.dot(ainv,a))\n",
    "print(np.dot(a,ainv))"
   ]
  },
  {
   "cell_type": "code",
   "execution_count": 283,
   "id": "612a222c",
   "metadata": {},
   "outputs": [
    {
     "name": "stdout",
     "output_type": "stream",
     "text": [
      "[[ 5.]\n",
      " [ 3.]\n",
      " [-2.]]\n"
     ]
    }
   ],
   "source": [
    "aa = np.array([[1,1,1],[0,2,5],[2,5,-1]])\n",
    "bb = np.array([[6],[-4],[27]])\n",
    "x = np.linalg.solve(aa,bb)\n",
    "print(x)"
   ]
  },
  {
   "cell_type": "code",
   "execution_count": 290,
   "id": "8eed423b",
   "metadata": {},
   "outputs": [
    {
     "name": "stdout",
     "output_type": "stream",
     "text": [
      "[[    0     0]\n",
      " [    0 16368]\n",
      " [    0     0]\n",
      " [    0 16368]]\n",
      "(4, 2)\n",
      "uint16\n",
      "2\n",
      "2\n"
     ]
    }
   ],
   "source": [
    "a = np.empty([4,2], dtype=np.uint16)\n",
    "print(a)\n",
    "print(a.shape)\n",
    "print(a.dtype)\n",
    "print(a.ndim)\n",
    "print(a.itemsize)"
   ]
  },
  {
   "cell_type": "code",
   "execution_count": 294,
   "id": "9dec6a60",
   "metadata": {},
   "outputs": [
    {
     "name": "stdout",
     "output_type": "stream",
     "text": [
      "[[100 110]\n",
      " [120 130]\n",
      " [140 150]\n",
      " [160 170]\n",
      " [180 190]]\n"
     ]
    }
   ],
   "source": [
    "a = np.arange(100,200,10,dtype=int).reshape((5,2))\n",
    "\n",
    "print(a)"
   ]
  },
  {
   "cell_type": "code",
   "execution_count": 303,
   "id": "56eac892",
   "metadata": {},
   "outputs": [
    {
     "name": "stdout",
     "output_type": "stream",
     "text": [
      "[33 66 99]\n",
      "[44 55 66]\n"
     ]
    }
   ],
   "source": [
    "sampleArray = numpy.array([[11 ,22, 33], [44, 55, 66], [77, 88, 99]])\n",
    "print(sampleArray[...,2])\n",
    "print(sampleArray[1,...])"
   ]
  },
  {
   "cell_type": "code",
   "execution_count": 326,
   "id": "3b3df7ef",
   "metadata": {},
   "outputs": [
    {
     "name": "stdout",
     "output_type": "stream",
     "text": [
      "[[ 3  6  9 12]\n",
      " [15 18 21 24]\n",
      " [27 30 33 36]\n",
      " [39 42 45 48]\n",
      " [51 54 57 60]]\n",
      "[[ 6 12]\n",
      " [30 36]\n",
      " [54 60]]\n"
     ]
    }
   ],
   "source": [
    "def isEven(number):\n",
    "    if (number % 2 == 0):\n",
    "        return True\n",
    "    else: \n",
    "        return False\n",
    "    \n",
    "    \n",
    "sampleArray = numpy.array([[3 ,6, 9, 12], [15 ,18, 21, 24], \n",
    "[27 ,30, 33, 36], [39 ,42, 45, 48], [51 ,54, 57, 60]])\n",
    "print(sampleArray)\n",
    "\n",
    "newArray = []\n",
    "for j in range(0,5):\n",
    "    \n",
    "    if (isEven(j+1) == False): \n",
    "        for i in range(0,4):\n",
    "            if(isEven(i+1) == True):\n",
    "                #print(j,i)\n",
    "                #print(sampleArray[j][i])\n",
    "                newArray.append(sampleArray[j][i])\n",
    "                \n",
    "newArrayshape = np.asarray(newArray).reshape(3,2)\n",
    "print(newArrayshape)\n",
    "              "
   ]
  },
  {
   "cell_type": "code",
   "execution_count": 327,
   "id": "b6231183",
   "metadata": {},
   "outputs": [
    {
     "name": "stdout",
     "output_type": "stream",
     "text": [
      "[[ 6 12]\n",
      " [30 36]\n",
      " [54 60]]\n"
     ]
    }
   ],
   "source": [
    "newArrayslice= sampleArray[::2, 1::2]\n",
    "print(newArrayslice)"
   ]
  },
  {
   "cell_type": "code",
   "execution_count": 359,
   "id": "e2da41f1",
   "metadata": {},
   "outputs": [
    {
     "name": "stdout",
     "output_type": "stream",
     "text": [
      "[[ 6  6  1  5]\n",
      " [45 45 78 94]]\n"
     ]
    }
   ],
   "source": [
    "sampeArray2 = np.array([[3,6,7,6,3,1,2,5,6],[4,5,4,5,9,8,4,5,1],[23,45,11,45,24,78,47,94,11]])\n",
    "#,[4,5,4,5,9,8,4,5,1]]\n",
    "#print(sampeArray2)\n",
    "print(sampeArray2[0::2,1::2])"
   ]
  },
  {
   "cell_type": "code",
   "execution_count": null,
   "id": "401f1909",
   "metadata": {},
   "outputs": [],
   "source": []
  }
 ],
 "metadata": {
  "kernelspec": {
   "display_name": "Python 3 (ipykernel)",
   "language": "python",
   "name": "python3"
  },
  "language_info": {
   "codemirror_mode": {
    "name": "ipython",
    "version": 3
   },
   "file_extension": ".py",
   "mimetype": "text/x-python",
   "name": "python",
   "nbconvert_exporter": "python",
   "pygments_lexer": "ipython3",
   "version": "3.9.6"
  }
 },
 "nbformat": 4,
 "nbformat_minor": 5
}
