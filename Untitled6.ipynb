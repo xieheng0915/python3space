{
 "cells": [
  {
   "cell_type": "code",
   "execution_count": 39,
   "id": "f08e5166",
   "metadata": {},
   "outputs": [],
   "source": [
    "import requests"
   ]
  },
  {
   "cell_type": "code",
   "execution_count": 40,
   "id": "824258c6",
   "metadata": {},
   "outputs": [],
   "source": [
    "url = \"http://api.openweathermap.org/data/2.5/weather?q={city}&appid={key}&lang=ja&units=metric\""
   ]
  },
  {
   "cell_type": "code",
   "execution_count": 41,
   "id": "4079feb6",
   "metadata": {},
   "outputs": [],
   "source": [
    "url = url.format(city=\"Tokyo,JP\", key=\"c8c202db26cda9d7a2561e3eec9640a0\")\n",
    "jsonData = requests.get(url).json()"
   ]
  },
  {
   "cell_type": "code",
   "execution_count": 42,
   "id": "68b57e65",
   "metadata": {},
   "outputs": [
    {
     "name": "stdout",
     "output_type": "stream",
     "text": [
      "City Name:  東京都\n",
      "Temperature:  28.93\n",
      "Weather:  Clouds\n",
      "Weather Detail:  薄い雲\n"
     ]
    }
   ],
   "source": [
    "print(\"City Name: \", jsonData[\"name\"])\n",
    "print(\"Temperature: \", jsonData[\"main\"][\"temp\"])\n",
    "print(\"Weather: \", jsonData[\"weather\"][0][\"main\"])\n",
    "print(\"Weather Detail: \", jsonData[\"weather\"][0][\"description\"])"
   ]
  },
  {
   "cell_type": "code",
   "execution_count": null,
   "id": "f5e66960",
   "metadata": {},
   "outputs": [],
   "source": []
  }
 ],
 "metadata": {
  "kernelspec": {
   "display_name": "Python 3 (ipykernel)",
   "language": "python",
   "name": "python3"
  },
  "language_info": {
   "codemirror_mode": {
    "name": "ipython",
    "version": 3
   },
   "file_extension": ".py",
   "mimetype": "text/x-python",
   "name": "python",
   "nbconvert_exporter": "python",
   "pygments_lexer": "ipython3",
   "version": "3.9.6"
  }
 },
 "nbformat": 4,
 "nbformat_minor": 5
}
