{
 "cells": [
  {
   "cell_type": "code",
   "execution_count": 10,
   "id": "a8217842",
   "metadata": {},
   "outputs": [],
   "source": [
    "import requests\n",
    "from bs4 import BeautifulSoup"
   ]
  },
  {
   "cell_type": "code",
   "execution_count": 11,
   "id": "246efc79",
   "metadata": {},
   "outputs": [],
   "source": [
    "load_url = \"https://news.yahoo.co.jp/categories/it\""
   ]
  },
  {
   "cell_type": "code",
   "execution_count": 12,
   "id": "36fdad4a",
   "metadata": {},
   "outputs": [],
   "source": [
    "html = requests.get(load_url)"
   ]
  },
  {
   "cell_type": "code",
   "execution_count": 13,
   "id": "e4b681b6",
   "metadata": {},
   "outputs": [],
   "source": [
    "soup = BeautifulSoup(html.content, \"html.parser\")"
   ]
  },
  {
   "cell_type": "code",
   "execution_count": 14,
   "id": "ae2b9ca9",
   "metadata": {},
   "outputs": [],
   "source": [
    "topic = soup.find(class_=\"yjnSub_section\")"
   ]
  },
  {
   "cell_type": "code",
   "execution_count": 15,
   "id": "4d522f1c",
   "metadata": {},
   "outputs": [
    {
     "name": "stdout",
     "output_type": "stream",
     "text": [
      "アクセスランキング（IT・科学）\n",
      "1「肉を切れる人がいません」ワクチン副反応で欠員、スーパーの貼り紙が話題　「これが許される社会で」withnews8/27(金)7:00\n",
      "2医者になった私に祖母が言った「死にたい」　病室でついた〝うそ〟の意味　わからないを受け止める覚悟withnews8/27(金)7:00\n",
      "3抗がん剤「アブラキサン」供給停止へ　年間4万人が使用朝日新聞デジタル8/26(木)20:00\n",
      "4ワクチン、若年層の2割弱「接種しない」　都が調査結果朝日新聞デジタル8/26(木)17:54\n",
      "510月からの「SIMロック原則禁止」で何が変わる？ ユーザー側が注意すべきことAll About8/26(木)21:15\n"
     ]
    }
   ],
   "source": [
    "for element in topic.find_all(\"a\"):\n",
    "    print(element.text)"
   ]
  },
  {
   "cell_type": "code",
   "execution_count": null,
   "id": "a45a69e4",
   "metadata": {},
   "outputs": [],
   "source": []
  }
 ],
 "metadata": {
  "kernelspec": {
   "display_name": "Python 3 (ipykernel)",
   "language": "python",
   "name": "python3"
  },
  "language_info": {
   "codemirror_mode": {
    "name": "ipython",
    "version": 3
   },
   "file_extension": ".py",
   "mimetype": "text/x-python",
   "name": "python",
   "nbconvert_exporter": "python",
   "pygments_lexer": "ipython3",
   "version": "3.9.6"
  }
 },
 "nbformat": 4,
 "nbformat_minor": 5
}
