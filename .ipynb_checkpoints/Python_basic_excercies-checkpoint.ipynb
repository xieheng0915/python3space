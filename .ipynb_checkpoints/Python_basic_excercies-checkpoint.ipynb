{
 "cells": [
  {
   "cell_type": "code",
   "execution_count": 8,
   "id": "a484e580",
   "metadata": {},
   "outputs": [],
   "source": [
    "def func1(*args):\n",
    "    for i in args:\n",
    "        print(i)"
   ]
  },
  {
   "cell_type": "code",
   "execution_count": 9,
   "id": "baea57eb",
   "metadata": {},
   "outputs": [
    {
     "name": "stdout",
     "output_type": "stream",
     "text": [
      "80\n",
      "100\n"
     ]
    }
   ],
   "source": [
    "func1(80,100)"
   ]
  },
  {
   "cell_type": "code",
   "execution_count": 11,
   "id": "5f1f8163",
   "metadata": {},
   "outputs": [
    {
     "name": "stdout",
     "output_type": "stream",
     "text": [
      "20\n",
      "40\n",
      "60\n"
     ]
    }
   ],
   "source": [
    "func1(20,40,60)"
   ]
  },
  {
   "cell_type": "code",
   "execution_count": 15,
   "id": "7d863db1",
   "metadata": {},
   "outputs": [
    {
     "name": "stdout",
     "output_type": "stream",
     "text": [
      "50 30\n"
     ]
    }
   ],
   "source": [
    "def calculation(a,b):\n",
    "    return a+b, a-b\n",
    "\n",
    "add, sub = calculation(40,10)\n",
    "print(add, sub)"
   ]
  },
  {
   "cell_type": "code",
   "execution_count": 16,
   "id": "2810001c",
   "metadata": {},
   "outputs": [
    {
     "name": "stdout",
     "output_type": "stream",
     "text": [
      "Employee Ben salary is: 9000\n"
     ]
    }
   ],
   "source": [
    "def showEmployee(name, salary=9000):\n",
    "    print(\"Employee \" + name + \" salary is: \" + str(salary))\n",
    "showEmployee(\"Ben\", 9000)"
   ]
  },
  {
   "cell_type": "code",
   "execution_count": 17,
   "id": "d483f1ab",
   "metadata": {},
   "outputs": [
    {
     "name": "stdout",
     "output_type": "stream",
     "text": [
      "Employee Ben salary is: 9000\n"
     ]
    }
   ],
   "source": [
    "showEmployee(\"Ben\")"
   ]
  },
  {
   "cell_type": "code",
   "execution_count": 18,
   "id": "dec374df",
   "metadata": {},
   "outputs": [
    {
     "data": {
      "text/plain": [
       "35"
      ]
     },
     "execution_count": 18,
     "metadata": {},
     "output_type": "execute_result"
    }
   ],
   "source": [
    "def outerfunc(a,b):\n",
    "    def innerfunc(a,b):\n",
    "        return a+b\n",
    "    return 5+ innerfunc(a,b)\n",
    "\n",
    "outerfunc(10,20)"
   ]
  },
  {
   "cell_type": "code",
   "execution_count": 21,
   "id": "b7669282",
   "metadata": {},
   "outputs": [
    {
     "name": "stdout",
     "output_type": "stream",
     "text": [
      "55\n"
     ]
    }
   ],
   "source": [
    "def recurSum(num):\n",
    "    if num: \n",
    "        return num + recurSum(num -1)\n",
    "    else:\n",
    "        return 0\n",
    "\n",
    "res = recurSum(10)\n",
    "print(res)"
   ]
  },
  {
   "cell_type": "code",
   "execution_count": 22,
   "id": "d31c767f",
   "metadata": {},
   "outputs": [
    {
     "name": "stdout",
     "output_type": "stream",
     "text": [
      "Emma 45\n"
     ]
    }
   ],
   "source": [
    "def displayStudent(name, age):\n",
    "    print(name, age)\n",
    "    \n",
    "showStudent = displayStudent\n",
    "showStudent(\"Emma\",45)"
   ]
  },
  {
   "cell_type": "code",
   "execution_count": 24,
   "id": "83a272aa",
   "metadata": {},
   "outputs": [
    {
     "data": {
      "text/plain": [
       "55"
      ]
     },
     "execution_count": 24,
     "metadata": {},
     "output_type": "execute_result"
    }
   ],
   "source": [
    "def calcSum(num):\n",
    "    total = 0\n",
    "    for i in range(num+1):\n",
    "        total += i\n",
    "    return total\n",
    "\n",
    "calcSum(10)"
   ]
  },
  {
   "cell_type": "code",
   "execution_count": 28,
   "id": "b7d4d9e4",
   "metadata": {},
   "outputs": [
    {
     "name": "stdout",
     "output_type": "stream",
     "text": [
      "[4, 6, 8, 10, 12, 14, 16, 18, 20, 22, 24, 26, 28]\n"
     ]
    }
   ],
   "source": [
    "def evenNumList(minVal, maxVal):\n",
    "    evenNum = []\n",
    "    for i in range(minVal, maxVal):\n",
    "        if i %2 == 0: \n",
    "            evenNum.append(i)\n",
    "    return evenNum\n",
    "print(evenNumList(4,30))\n",
    "        "
   ]
  },
  {
   "cell_type": "code",
   "execution_count": 27,
   "id": "a18a21d1",
   "metadata": {},
   "outputs": [
    {
     "name": "stdout",
     "output_type": "stream",
     "text": [
      "[4, 6, 8, 10, 12, 14, 16, 18, 20, 22, 24, 26, 28]\n"
     ]
    }
   ],
   "source": [
    "print(list(range(4,30,2)))"
   ]
  },
  {
   "cell_type": "code",
   "execution_count": 31,
   "id": "959dbc50",
   "metadata": {},
   "outputs": [
    {
     "name": "stdout",
     "output_type": "stream",
     "text": [
      "56\n"
     ]
    }
   ],
   "source": [
    "aList = [4,6,8,24,12,2,56]\n",
    "temp = 0\n",
    "biggest = aList[0]\n",
    "for i in range(1, len(aList)):\n",
    "        if biggest < aList[i]:\n",
    "            temp = biggest\n",
    "            biggest = aList[i]\n",
    "            aList[i] = temp\n",
    "            \n",
    "print(biggest)"
   ]
  },
  {
   "cell_type": "code",
   "execution_count": 39,
   "id": "dff34af4",
   "metadata": {},
   "outputs": [
    {
     "name": "stdout",
     "output_type": "stream",
     "text": [
      "56\n",
      "2\n",
      "56\n"
     ]
    }
   ],
   "source": [
    "aList = [4,6,8,24,12,2,56]\n",
    "print(max(aList))\n",
    "print(min(aList))\n",
    "aList.sort()\n",
    "print(aList[len(aList)-1])"
   ]
  },
  {
   "cell_type": "code",
   "execution_count": 50,
   "id": "5a585452",
   "metadata": {},
   "outputs": [
    {
     "name": "stdout",
     "output_type": "stream",
     "text": [
      "1 \n",
      "1 2 \n",
      "1 2 3 \n",
      "1 2 3 4 \n",
      "1 2 3 4 5 \n"
     ]
    }
   ],
   "source": [
    "for n in range(1,6):\n",
    "    for i in range(1,n + 1):\n",
    "        print(i, end= \" \")\n",
    "    print()"
   ]
  },
  {
   "cell_type": "code",
   "execution_count": 53,
   "id": "12e5ff1c",
   "metadata": {},
   "outputs": [
    {
     "name": "stdout",
     "output_type": "stream",
     "text": [
      "2\n",
      "4\n",
      "6\n",
      "8\n",
      "10\n",
      "12\n",
      "14\n",
      "16\n",
      "18\n",
      "20\n"
     ]
    }
   ],
   "source": [
    "for i in range(2,22, 2):\n",
    "    print(i)"
   ]
  },
  {
   "cell_type": "code",
   "execution_count": 58,
   "id": "6d5cf4ee",
   "metadata": {},
   "outputs": [
    {
     "name": "stdout",
     "output_type": "stream",
     "text": [
      "5 4 3 2 1 \n",
      "4 3 2 1 \n",
      "3 2 1 \n",
      "2 1 \n",
      "1 \n"
     ]
    }
   ],
   "source": [
    "for n in range(5,0,-1):\n",
    "    for i in range(n,0,-1):\n",
    "        print(i, end= \" \")\n",
    "    print()"
   ]
  },
  {
   "cell_type": "code",
   "execution_count": 60,
   "id": "e4ea075b",
   "metadata": {},
   "outputs": [
    {
     "name": "stdout",
     "output_type": "stream",
     "text": [
      "[50, 40, 30, 20, 10]\n"
     ]
    }
   ],
   "source": [
    "list1 = [10,20,30,40,50]\n",
    "list1.reverse()\n",
    "print(list1)"
   ]
  },
  {
   "cell_type": "code",
   "execution_count": 61,
   "id": "fb644137",
   "metadata": {},
   "outputs": [
    {
     "name": "stdout",
     "output_type": "stream",
     "text": [
      "-10\n",
      "-9\n",
      "-8\n",
      "-7\n",
      "-6\n",
      "-5\n",
      "-4\n",
      "-3\n",
      "-2\n",
      "-1\n"
     ]
    }
   ],
   "source": [
    "for i in range(-10,0):\n",
    "    print(i)"
   ]
  },
  {
   "cell_type": "code",
   "execution_count": 62,
   "id": "08bdc230",
   "metadata": {},
   "outputs": [
    {
     "name": "stdout",
     "output_type": "stream",
     "text": [
      "0\n",
      "1\n",
      "2\n",
      "3\n",
      "4\n",
      "Done!\n"
     ]
    }
   ],
   "source": [
    "for i in range(5):\n",
    "    print(i)\n",
    "print(\"Done!\")"
   ]
  },
  {
   "cell_type": "code",
   "execution_count": 66,
   "id": "5edd6ec0",
   "metadata": {},
   "outputs": [
    {
     "name": "stdout",
     "output_type": "stream",
     "text": [
      "120\n"
     ]
    }
   ],
   "source": [
    "def factFunc(num):\n",
    "    res = 1\n",
    "    for i in range(1, num +1):\n",
    "        res *= i\n",
    "    return res\n",
    "\n",
    "print(factFunc(5))"
   ]
  },
  {
   "cell_type": "code",
   "execution_count": 96,
   "id": "aadc9f39",
   "metadata": {},
   "outputs": [
    {
     "name": "stdout",
     "output_type": "stream",
     "text": [
      "[2, 4, 5, 6, 7]\n"
     ]
    }
   ],
   "source": [
    "import math\n",
    "numInput = 76542\n",
    "\n",
    "list1 = []\n",
    "for i in range(4,-1,-1):\n",
    "    temp=int(numInput/math.pow(10,i))\n",
    "    numInput = numInput - temp * math.pow(10,i)\n",
    "    list1.append(temp)\n",
    "list1.sort()\n",
    "print(list1)\n",
    "                 "
   ]
  },
  {
   "cell_type": "code",
   "execution_count": 101,
   "id": "a190638d",
   "metadata": {},
   "outputs": [
    {
     "name": "stdout",
     "output_type": "stream",
     "text": [
      "24567\n"
     ]
    }
   ],
   "source": [
    "num = 76542\n",
    "reverse_num = 0\n",
    "\n",
    "while num > 0:\n",
    "    reminder = num % 10\n",
    "    reverse_num = (reverse_num * 10) + reminder\n",
    "    num = num // 10\n",
    "    #print(reverse_num)\n",
    "print(reverse_num)"
   ]
  },
  {
   "cell_type": "code",
   "execution_count": 113,
   "id": "31dfa0bb",
   "metadata": {},
   "outputs": [
    {
     "name": "stdout",
     "output_type": "stream",
     "text": [
      "[20, 40, 60, 80, 100]\n"
     ]
    }
   ],
   "source": [
    "my_list = [10,20,30,40,50,60,70,80,90,100]\n",
    "even_list = []\n",
    "\n",
    "for i in range(len(my_list)):\n",
    "    if ((int(my_list[i] / 10) % 2) == 0):\n",
    "        even_list.append(my_list[i])\n",
    "        \n",
    "print(even_list)"
   ]
  },
  {
   "cell_type": "code",
   "execution_count": 124,
   "id": "f91eef26",
   "metadata": {},
   "outputs": [
    {
     "name": "stdout",
     "output_type": "stream",
     "text": [
      "20 40 60 80 100 "
     ]
    }
   ],
   "source": [
    "my_list = [10,20,30,40,50,60,70,80,90,100]\n",
    "for i in my_list[1::2]:\n",
    "    print(i, end=\" \")"
   ]
  },
  {
   "cell_type": "raw",
   "id": "1983f678",
   "metadata": {},
   "source": []
  },
  {
   "cell_type": "code",
   "execution_count": 141,
   "id": "e410c59b",
   "metadata": {},
   "outputs": [
    {
     "name": "stdout",
     "output_type": "stream",
     "text": [
      "Current Number is :  1  and the cube is  1\n",
      "Current Number is :  2  and the cube is  8\n",
      "Current Number is :  3  and the cube is  27\n",
      "Current Number is :  4  and the cube is  64\n",
      "Current Number is :  5  and the cube is  125\n",
      "Current Number is :  6  and the cube is  216\n"
     ]
    }
   ],
   "source": [
    "input_number = 6\n",
    "for i in range(1,7):\n",
    "    cube_num = int(math.pow(i,3))\n",
    "    print(\"Current Number is : \" , i , \" and the cube is \" ,cube_num)\n",
    "    "
   ]
  },
  {
   "cell_type": "code",
   "execution_count": 145,
   "id": "382fe759",
   "metadata": {},
   "outputs": [
    {
     "name": "stdout",
     "output_type": "stream",
     "text": [
      "24690\n"
     ]
    }
   ],
   "source": [
    "rem = 0\n",
    "total_sum = 0\n",
    "for i in range(5):\n",
    "    rem += int(2 * math.pow(10, i))\n",
    "    total_sum += rem\n",
    "print(total_sum)"
   ]
  },
  {
   "cell_type": "code",
   "execution_count": 155,
   "id": "9427716d",
   "metadata": {},
   "outputs": [
    {
     "name": "stdout",
     "output_type": "stream",
     "text": [
      "* \n",
      "* * \n",
      "* * * \n",
      "* * * * \n",
      "* * * * * \n",
      "* * * * \n",
      "* * * \n",
      "* * \n",
      "* \n"
     ]
    }
   ],
   "source": [
    "for n in range(1, 5):\n",
    "    for i in range(1,n+1):\n",
    "        print(\"*\", end = \" \")\n",
    "    print()\n",
    "for n in range(5, 0,-1):\n",
    "    for i in range(n,0,-1):\n",
    "        print(\"*\", end = \" \")\n",
    "    print()"
   ]
  },
  {
   "cell_type": "code",
   "execution_count": 158,
   "id": "824363c6",
   "metadata": {},
   "outputs": [
    {
     "name": "stdout",
     "output_type": "stream",
     "text": [
      "Dip Son\n"
     ]
    }
   ],
   "source": [
    "str1 = \"JhonDipPeta\"\n",
    "str2 = \"JaSonAy\"\n",
    "print(str1[4:7],str2[2:5])"
   ]
  },
  {
   "cell_type": "code",
   "execution_count": 163,
   "id": "358badbf",
   "metadata": {},
   "outputs": [
    {
     "name": "stdout",
     "output_type": "stream",
     "text": [
      "Dip\n",
      "Son\n"
     ]
    }
   ],
   "source": [
    "def getMiddleStr(sampleString):\n",
    "    middleIndex = int(len(sampleString) / 2)\n",
    "    middleThree = sampleString[middleIndex -1: middleIndex +2]\n",
    "    return middleThree\n",
    "   \n",
    "\n",
    "print(getMiddleStr(str1))\n",
    "print(getMiddleStr(str2))"
   ]
  },
  {
   "cell_type": "code",
   "execution_count": 176,
   "id": "05c5525d",
   "metadata": {},
   "outputs": [
    {
     "name": "stdout",
     "output_type": "stream",
     "text": [
      "EdwKellyardz\n",
      "KeEdwardzlly\n"
     ]
    }
   ],
   "source": [
    "s1 = \"Edwardz\"\n",
    "s2 = \"Kelly\"\n",
    "\n",
    "def concatStr(str1, str2):\n",
    "    ind = int(len(str1) / 2)\n",
    "    left_str = str1[0: ind]\n",
    "    right_str = str1[ind: len(str1)]\n",
    "    return left_str + str2 + right_str\n",
    "\n",
    "print(concatStr(s1,s2))\n",
    "print(concatStr(s2,s1))\n",
    "    "
   ]
  },
  {
   "cell_type": "code",
   "execution_count": 184,
   "id": "d05dca88",
   "metadata": {},
   "outputs": [
    {
     "data": {
      "text/plain": [
       "'AXrhaa'"
      ]
     },
     "execution_count": 184,
     "metadata": {},
     "output_type": "execute_result"
    }
   ],
   "source": [
    "def genStr(str1, str2):\n",
    "    first_char = str1[:1] + str2[:1]\n",
    "    middle_char = str1[int(len(str1) /2) : int(len(str1) / 2) + 1] + str2[int(len(str2) / 2) : int(len(str2) / 2) + 1]   \n",
    "    last_char = str1[len(str1) -1] + str2[len(str2) -1]\n",
    "    return first_char + middle_char + last_char\n",
    "    \n",
    "    \n",
    "s1 = \"America\"\n",
    "s2 = \"Japan\"\n",
    "s3 = \"Xianhina\"\n",
    "genStr(s1,s3)"
   ]
  },
  {
   "cell_type": "code",
   "execution_count": 208,
   "id": "3a847a23",
   "metadata": {},
   "outputs": [
    {
     "name": "stdout",
     "output_type": "stream",
     "text": [
      "yaiveNPT\n",
      "hineseapanmericaJCA\n"
     ]
    }
   ],
   "source": [
    "def sortStr(str):\n",
    "    for i in range(len(str)):\n",
    "        if ( str[i].isupper()):\n",
    "            str = str[: i] + str[i+1: len(str)] + str[i]\n",
    "    return str\n",
    "               \n",
    "print(sortStr(\"PyNaTive\"))  \n",
    "print(sortStr(\"ChineseJapanAmerica\"))"
   ]
  },
  {
   "cell_type": "code",
   "execution_count": 216,
   "id": "8df5dc5b",
   "metadata": {},
   "outputs": [
    {
     "name": "stdout",
     "output_type": "stream",
     "text": [
      "char =  8\n",
      "uppercase =  1\n",
      "lowercase =  7\n",
      "digit =  3\n",
      "special symbol =  4\n"
     ]
    }
   ],
   "source": [
    "def countAll(str):\n",
    "    up_num = 0\n",
    "    low_num = 0\n",
    "    digit_num = 0\n",
    "    symbol_num = 0\n",
    "    for i in range(len(str)):\n",
    "        if (str[i].isnumeric()): \n",
    "            digit_num += 1\n",
    "        elif(str[i].isalpha()):\n",
    "            if(str[i].isupper()):\n",
    "                up_num += 1\n",
    "            else: \n",
    "                low_num += 1\n",
    "        else: \n",
    "            symbol_num += 1\n",
    "           \n",
    "     \n",
    "    print(\"char = \", up_num + low_num)\n",
    "    print(\"uppercase = \", up_num)\n",
    "    print(\"lowercase = \", low_num)\n",
    "    print(\"digit = \", digit_num)\n",
    "    print(\"special symbol = \", symbol_num)\n",
    "            \n",
    "countAll(\"P@#yn26at^&i5ve\")  "
   ]
  },
  {
   "cell_type": "code",
   "execution_count": 219,
   "id": "ef802074",
   "metadata": {},
   "outputs": [
    {
     "name": "stdout",
     "output_type": "stream",
     "text": [
      "AzbycX\n"
     ]
    }
   ],
   "source": [
    "def genNewStr(str1, str2):\n",
    "    newStr1 = str1[0] + str2[len(str2)-1]\n",
    "    newStr2 = str1[int(len(str1) / 2)] + str2[int(len(str2) /2)]\n",
    "    newStr3 = str1[len(str1) -1] + str2[0]\n",
    "    return newStr1+newStr2+newStr3\n",
    "\n",
    "s1 = \"Abc\"\n",
    "s2 = \"Xyz\"\n",
    "print(genNewStr(s1,s2))"
   ]
  },
  {
   "cell_type": "code",
   "execution_count": 223,
   "id": "20fe760d",
   "metadata": {},
   "outputs": [
    {
     "name": "stdout",
     "output_type": "stream",
     "text": [
      "True\n",
      "False\n"
     ]
    }
   ],
   "source": [
    "def findStr(str1, str2):\n",
    "    res = str2.rfind(str1)\n",
    "    if (res == -1): \n",
    "        return False\n",
    "    else:\n",
    "        return True\n",
    "\n",
    "print(findStr(\"Yn\",\"PYnative\"))\n",
    "print(findStr(\"Ynf\", \"PYnative\"))"
   ]
  },
  {
   "cell_type": "code",
   "execution_count": 225,
   "id": "3dbd31ac",
   "metadata": {},
   "outputs": [
    {
     "name": "stdout",
     "output_type": "stream",
     "text": [
      "2\n"
     ]
    }
   ],
   "source": [
    "str1 = \"Welcome to USA. usa awesome, isn't it?\"\n",
    "str2 = \"USA\"\n",
    "print(str1.lower().count(str2.lower()))"
   ]
  },
  {
   "cell_type": "code",
   "execution_count": 229,
   "id": "aaf0b6d0",
   "metadata": {},
   "outputs": [
    {
     "name": "stdout",
     "output_type": "stream",
     "text": [
      "294.0 73.5\n"
     ]
    }
   ],
   "source": [
    "str1 = \"English = 78 Science = 83 Math = 68 History = 65\"\n",
    "strList = str1.split(\" \")\n",
    "total = 0\n",
    "count = 0\n",
    "for item in strList: \n",
    "    if (item.isnumeric() == True): \n",
    "        total += float(item)\n",
    "        count += 1\n",
    "avg = float(total / count)\n",
    "print(total, avg)"
   ]
  },
  {
   "cell_type": "code",
   "execution_count": 238,
   "id": "3c1379eb",
   "metadata": {},
   "outputs": [
    {
     "name": "stdout",
     "output_type": "stream",
     "text": [
      "{'A': 1, 'p': 2, 'l': 1, 'e': 5, 'D': 3}\n",
      "{'A': 1, 'p': 2, 'l': 1, 'e': 5, 'D': 3}\n"
     ]
    }
   ],
   "source": [
    "def Convert(str):\n",
    "    count_item = 0\n",
    "    dict1 = dict()\n",
    "    for x in str: \n",
    "        for y in str:\n",
    "            if (y == x):\n",
    "                count_item +=1\n",
    "                 \n",
    "        dict1.update({x: count_item})\n",
    "        count_item = 0\n",
    "    print(dict1)\n",
    "    return dict1\n",
    "        \n",
    "\n",
    "print(Convert(\"AppleeeeeDDD\"))"
   ]
  },
  {
   "cell_type": "code",
   "execution_count": 241,
   "id": "7566d200",
   "metadata": {},
   "outputs": [
    {
     "name": "stdout",
     "output_type": "stream",
     "text": [
      "{'A': 1, 'p': 2, 'l': 1, 'e': 5, 'D': 3}\n"
     ]
    }
   ],
   "source": [
    "def Convert(str):\n",
    "    countDict = dict()\n",
    "    for char in str:\n",
    "        count = str.count(char)\n",
    "        countDict[char] = count\n",
    "    return countDict\n",
    "\n",
    "print(Convert(\"AppleeeeeDDD\"))"
   ]
  },
  {
   "cell_type": "code",
   "execution_count": 242,
   "id": "663b6902",
   "metadata": {},
   "outputs": [
    {
     "name": "stdout",
     "output_type": "stream",
     "text": [
      "evitanYP\n"
     ]
    }
   ],
   "source": [
    "def reverseStr(str):\n",
    "    lst1 = []\n",
    "    for i in str:\n",
    "        lst1.append(i)\n",
    "    lst1.reverse()\n",
    "    return \"\".join(lst1)\n",
    "\n",
    "print(reverseStr(\"PYnative\"))"
   ]
  },
  {
   "cell_type": "code",
   "execution_count": 243,
   "id": "c885b7f5",
   "metadata": {},
   "outputs": [
    {
     "name": "stdout",
     "output_type": "stream",
     "text": [
      "evitanYP\n"
     ]
    }
   ],
   "source": [
    "str1 = \"PYnative\"\n",
    "str1 = str1[::-1]\n",
    "print(str1)"
   ]
  },
  {
   "cell_type": "code",
   "execution_count": 245,
   "id": "89ee8dfc",
   "metadata": {},
   "outputs": [
    {
     "name": "stdout",
     "output_type": "stream",
     "text": [
      "Displaying each substring\n",
      "Emma\n",
      "is\n",
      "a\n",
      "data\n",
      "scientist\n"
     ]
    }
   ],
   "source": [
    "str1 = \"Emma-is-a-data-scientist\"\n",
    "list = str1.split(\"-\")\n",
    "print(\"Displaying each substring\")\n",
    "for item in list:\n",
    "    print(item)"
   ]
  },
  {
   "cell_type": "code",
   "execution_count": 257,
   "id": "a75d0b88",
   "metadata": {},
   "outputs": [
    {
     "name": "stdout",
     "output_type": "stream",
     "text": [
      "['Emma', 'Jon', '', 'Kelly', None, 'Eric', '']\n",
      "['Emma', 'Jon', 'Kelly', 'Eric']\n"
     ]
    }
   ],
   "source": [
    "str_list = [\"Emma\", \"Jon\", \"\", \"Kelly\", None, \"Eric\", \"\"]\n",
    "print(str_list)\n",
    "filtered = filter(None, str_list)\n",
    "new_lst = []\n",
    "for i in filtered: \n",
    "    new_lst.append(i)\n",
    "print(new_lst)"
   ]
  },
  {
   "cell_type": "code",
   "execution_count": 259,
   "id": "76523ed3",
   "metadata": {},
   "outputs": [
    {
     "name": "stdout",
     "output_type": "stream",
     "text": [
      "Jon is developer  musician\n"
     ]
    }
   ],
   "source": [
    "str1 = \"/*Jon is @developer & musician\"\n",
    "newStr = []\n",
    "for i in str1: \n",
    "    if (i.isalnum() == True or i.isspace()):\n",
    "        newStr.append(i)\n",
    "str2 = \"\".join(newStr)\n",
    "print(str2)\n",
    "        \n"
   ]
  },
  {
   "cell_type": "code",
   "execution_count": 260,
   "id": "1cc7b58e",
   "metadata": {},
   "outputs": [
    {
     "name": "stdout",
     "output_type": "stream",
     "text": [
      "Jon is developer  musician\n"
     ]
    }
   ],
   "source": [
    "import re\n",
    "str1 = \"/*Jon is @developer & musician\"\n",
    "str2 = re.sub(r'[^\\w\\s]', '', str1)\n",
    "print(str2)"
   ]
  },
  {
   "cell_type": "code",
   "execution_count": 262,
   "id": "a1cbc50d",
   "metadata": {},
   "outputs": [
    {
     "name": "stdout",
     "output_type": "stream",
     "text": [
      "2510\n"
     ]
    }
   ],
   "source": [
    "str1 = 'I am 25 years and 10 months old'\n",
    "str2 = re.sub(r'[^\\d]', '', str1)\n",
    "print(str2)"
   ]
  },
  {
   "cell_type": "code",
   "execution_count": 263,
   "id": "d96ce211",
   "metadata": {},
   "outputs": [
    {
     "name": "stdout",
     "output_type": "stream",
     "text": [
      "##Jon is #developer # musician\n"
     ]
    }
   ],
   "source": [
    "str1 = \"/*Jon is @developer & musician\"\n",
    "str2 = re.sub(r'[^\\w\\s]', '#', str1)\n",
    "print(str2)"
   ]
  },
  {
   "cell_type": "code",
   "execution_count": null,
   "id": "365189a0",
   "metadata": {},
   "outputs": [],
   "source": [
    "sampleList = [87, 45, 41, 65, 94, 41, 99, 94]\n",
    "newList = []\n",
    "\n",
    "for i in range(len(sampleList)):\n",
    "    \n",
    "    "
   ]
  }
 ],
 "metadata": {
  "kernelspec": {
   "display_name": "Python 3 (ipykernel)",
   "language": "python",
   "name": "python3"
  },
  "language_info": {
   "codemirror_mode": {
    "name": "ipython",
    "version": 3
   },
   "file_extension": ".py",
   "mimetype": "text/x-python",
   "name": "python",
   "nbconvert_exporter": "python",
   "pygments_lexer": "ipython3",
   "version": "3.9.6"
  }
 },
 "nbformat": 4,
 "nbformat_minor": 5
}
